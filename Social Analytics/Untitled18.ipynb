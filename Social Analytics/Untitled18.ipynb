{
 "cells": [
  {
   "cell_type": "code",
   "execution_count": 26,
   "metadata": {
    "collapsed": true
   },
   "outputs": [],
   "source": [
    "import tweepy\n",
    "import numpy as np\n",
    "from datetime import datetime\n",
    "import pandas as pd\n",
    "import matplotlib.pyplot as plt\n",
    "from textblob import TextBlob\n",
    "import re\n",
    "from config import consumer_key, consumer_secret, access_token, access_token_secret\n",
    "from vaderSentiment.vaderSentiment import SentimentIntensityAnalyzer\n",
    "analyzer = SentimentIntensityAnalyzer()"
   ]
  },
  {
   "cell_type": "code",
   "execution_count": 27,
   "metadata": {
    "collapsed": true
   },
   "outputs": [],
   "source": [
    "auth = tweepy.OAuthHandler(consumer_key, consumer_secret)\n",
    "auth.set_access_token(access_token, access_token_secret)\n",
    "api = tweepy.API(auth, parser=tweepy.parsers.JSONParser())"
   ]
  },
  {
   "cell_type": "code",
   "execution_count": 28,
   "metadata": {
    "collapsed": true
   },
   "outputs": [],
   "source": [
    "BBC = \"BBC\"\n",
    "BBC_tweets = []\n",
    "compound_list = []\n",
    "tweet_times = []\n",
    "pos_list = []\n",
    "neg_list = []\n",
    "neu_list = []\n",
    "max_tweets = 100"
   ]
  },
  {
   "cell_type": "code",
   "execution_count": 92,
   "metadata": {},
   "outputs": [
    {
     "data": {
      "text/plain": [
       "0.8691499999999998"
      ]
     },
     "execution_count": 92,
     "metadata": {},
     "output_type": "execute_result"
    }
   ],
   "source": [
    "for x in range(5):\n",
    "    \n",
    "    BBC_tweets = api.user_timeline(BBC, page=x)\n",
    "    \n",
    "    for tweet in BBC_tweets:\n",
    "                  \n",
    "        raw_time = tweet[\"created_at\"]\n",
    "        results = analyzer.polarity_scores(tweet[\"text\"])\n",
    "        compound = results[\"compound\"]\n",
    "        pos = results[\"pos\"]\n",
    "        neg = results[\"neg\"] \n",
    "        neu = results[\"neu\"]\n",
    "        \n",
    "        if len(compound_list) < max_tweets:\n",
    "    \n",
    "            compound_list.append(compound)\n",
    "            pos_list.append(pos)\n",
    "            neg_list.append(neg)\n",
    "            neu_list.append(neu)\n",
    "            tweet_times.append(tweet[\"created_at\"])"
   ]
  },
  {
   "cell_type": "code",
   "execution_count": 36,
   "metadata": {
    "collapsed": true
   },
   "outputs": [],
   "source": [
    "BBC_objects  = []\n",
    "for x in range(len(tweet_times)):\n",
    "\n",
    "    y = x\n",
    "    \n",
    "    BBC_objects.append(y)"
   ]
  },
  {
   "cell_type": "code",
   "execution_count": 83,
   "metadata": {},
   "outputs": [
    {
     "data": {
      "text/plain": [
       "0.3274199999999999"
      ]
     },
     "execution_count": 83,
     "metadata": {},
     "output_type": "execute_result"
    }
   ],
   "source": [
    "CBS = \"CBS\"\n",
    "CBS_tweets = []\n",
    "compound_list2 = []\n",
    "tweet_times2 = []\n",
    "\n",
    "for x in range(5):\n",
    "    \n",
    "    CBS_tweets = api.user_timeline(CBS, page=x)\n",
    "    \n",
    "    for tweet in CBS_tweets:\n",
    "    \n",
    "        raw_time2 = tweet[\"created_at\"]\n",
    "        results2 = analyzer.polarity_scores(tweet[\"text\"])\n",
    "        compound2 = results2[\"compound\"]\n",
    "        \n",
    "        compound_list2.append(compound2)\n",
    "        tweet_times2.append(tweet[\"created_at\"])\n",
    "\n",
    "sums2 = sum(compound_list2) / 100\n",
    "sums2"
   ]
  },
  {
   "cell_type": "code",
   "execution_count": 38,
   "metadata": {
    "collapsed": true
   },
   "outputs": [],
   "source": [
    "CNN = \"CNN\"\n",
    "tweet_texts3 = []\n",
    "compound_list3 = []\n",
    "tweet_times3 = []\n",
    "\n",
    "for x in range(5):\n",
    "    \n",
    "    CNN_tweets = api.user_timeline(CNN, page=x)\n",
    "    \n",
    "    for tweet in CNN_tweets:\n",
    "    \n",
    "        raw_time3 = tweet[\"created_at\"]\n",
    "        results3 = analyzer.polarity_scores(tweet[\"text\"])\n",
    "        compound3 = results3[\"compound\"]\n",
    "        \n",
    "        compound_list3.append(compound3)\n",
    "        tweet_times3.append(tweet[\"created_at\"])"
   ]
  },
  {
   "cell_type": "code",
   "execution_count": 39,
   "metadata": {
    "collapsed": true
   },
   "outputs": [],
   "source": [
    "FoxNews = \"FoxNews\"\n",
    "tweet_texts4 = []\n",
    "compound_list4 = []\n",
    "tweet_times4 = []\n",
    "\n",
    "for x in range(5):\n",
    "    \n",
    "    FoxNews_tweets = api.user_timeline(FoxNews, page=x)\n",
    "    \n",
    "    for tweet in FoxNews_tweets:\n",
    "    \n",
    "        raw_time4 = tweet[\"created_at\"]\n",
    "        results4 = analyzer.polarity_scores(tweet[\"text\"])\n",
    "        compound4 = results4[\"compound\"]\n",
    "        \n",
    "        compound_list4.append(compound4)\n",
    "        tweet_times4.append(tweet[\"created_at\"])"
   ]
  },
  {
   "cell_type": "code",
   "execution_count": 55,
   "metadata": {},
   "outputs": [],
   "source": [
    "nytimes = \"nytimes\"\n",
    "tweet_texts5 = []\n",
    "compound_list5 = []\n",
    "tweet_times5 = []\n",
    "\n",
    "for x in range(5):\n",
    "    \n",
    "    nytimes_tweets = api.user_timeline(nytimes, page=x)\n",
    "    \n",
    "    for tweet in nytimes_tweets:\n",
    "    \n",
    "        raw_time5 = tweet[\"created_at\"]\n",
    "        results5 = analyzer.polarity_scores(tweet[\"text\"])\n",
    "        compound5 = results5[\"compound\"]\n",
    "        \n",
    "        compound_list5.append(compound5)\n",
    "        tweet_times5.append(tweet[\"created_at\"])"
   ]
  },
  {
   "cell_type": "code",
   "execution_count": 50,
   "metadata": {},
   "outputs": [
    {
     "data": {
      "image/png": "[encoded data removed]",
      "text/plain": [
       "<matplotlib.figure.Figure at 0x173c1d38390>"
      ]
     },
     "metadata": {},
     "output_type": "display_data"
    }
   ],
   "source": [
    "plt.scatter(BBC_objects,\n",
    "           compound_list,\n",
    "           c=\"cyan\")\n",
    "plt.scatter(BBC_objects,\n",
    "           compound_list2,\n",
    "           c=\"green\")\n",
    "plt.scatter(BBC_objects,\n",
    "           compound_list3,\n",
    "           c=\"red\")\n",
    "plt.scatter(BBC_objects,\n",
    "           compound_list4,\n",
    "           c=\"blue\")\n",
    "plt.scatter(BBC_objects,\n",
    "           compound_list5,\n",
    "           c=\"yellow\")\n",
    "\n",
    "plt.xlim(105,-5,-1)   \n",
    "plt.ylim(-1,1,-.5)\n",
    "plt.ylabel(\"Tweet Polarity\")\n",
    "plt.xlabel(\"Tweets Ago\")\n",
    "plt.title(\"Sentiment Analysis of Media Tweets (03/14/2018)\")\n",
    "plt.grid(color='w', linestyle='-', linewidth=2)\n",
    "plt.rcParams['axes.facecolor'] = 'lightgrey'\n",
    "plt.legend(('BBC', 'CBS', 'CNN', 'Fox', 'New York Times'),\n",
    "           loc='upper right', bbox_to_anchor=(1.5, 1))\n",
    "\n",
    "plt.show()"
   ]
  },
  {
   "cell_type": "code",
   "execution_count": null,
   "metadata": {
    "collapsed": true
   },
   "outputs": [],
   "source": []
  }
 ],
 "metadata": {
  "kernelspec": {
   "display_name": "Python [conda env:PythonData]",
   "language": "python",
   "name": "conda-env-PythonData-py"
  },
  "language_info": {
   "codemirror_mode": {
    "name": "ipython",
    "version": 3
   },
   "file_extension": ".py",
   "mimetype": "text/x-python",
   "name": "python",
   "nbconvert_exporter": "python",
   "pygments_lexer": "ipython3",
   "version": "3.6.3"
  }
 },
 "nbformat": 4,
 "nbformat_minor": 2
}
